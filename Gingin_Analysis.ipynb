{
 "cells": [
  {
   "cell_type": "markdown",
   "metadata": {},
   "source": [
    "The Goal of this analysis will be to see what predicts Total September Rainfall the best for the Gingin WA rainfall data (provided by BOM). \n",
    "\n",
    "We will treat each year as an IID, meaning that from 1989 to 2023 we have 35 rows in the dataset. "
   ]
  },
  {
   "cell_type": "markdown",
   "metadata": {},
   "source": [
    "### Load in the Relevant Libraries "
   ]
  },
  {
   "cell_type": "code",
   "execution_count": 72,
   "metadata": {},
   "outputs": [],
   "source": [
    "import pandas as pd\n",
    "import numpy as np \n",
    "import seaborn as sns\n",
    "from sklearn import linear_model\n",
    "from sklearn.metrics import mean_squared_error, r2_score\n",
    "import matplotlib.pyplot as plt\n",
    "from sklearn import tree"
   ]
  },
  {
   "cell_type": "markdown",
   "metadata": {},
   "source": [
    "### Load in the data"
   ]
  },
  {
   "cell_type": "code",
   "execution_count": 5,
   "metadata": {},
   "outputs": [],
   "source": [
    "rainfall =  pd.read_csv(\"Gingin_Rainfall_data.csv\")"
   ]
  },
  {
   "cell_type": "markdown",
   "metadata": {},
   "source": [
    "Now that we have loaded the rainfall data, let's now explore the trends observed so far in 2023"
   ]
  },
  {
   "cell_type": "code",
   "execution_count": 11,
   "metadata": {},
   "outputs": [],
   "source": [
    "rainfall_2023 = rainfall[rainfall[\"Year\"] == 2023]"
   ]
  },
  {
   "cell_type": "markdown",
   "metadata": {},
   "source": [
    "Plot the result using the package seaborn"
   ]
  },
  {
   "cell_type": "code",
   "execution_count": null,
   "metadata": {},
   "outputs": [],
   "source": [
    "sns.barplot(rainfall_2023, x = \"Month\", y = \"Monthly Precipitation Total (millimetres)\")"
   ]
  },
  {
   "cell_type": "markdown",
   "metadata": {},
   "source": [
    "Now try to creating linear model, predicting the september rainfall based on the preceding months. To begin with, the data will now need to be in wide format, where each Month is a a column (acting as a predictor). "
   ]
  },
  {
   "cell_type": "code",
   "execution_count": 45,
   "metadata": {},
   "outputs": [
    {
     "data": {
      "text/html": [
       "<div>\n",
       "<style scoped>\n",
       "    .dataframe tbody tr th:only-of-type {\n",
       "        vertical-align: middle;\n",
       "    }\n",
       "\n",
       "    .dataframe tbody tr th {\n",
       "        vertical-align: top;\n",
       "    }\n",
       "\n",
       "    .dataframe thead th {\n",
       "        text-align: right;\n",
       "    }\n",
       "</style>\n",
       "<table border=\"1\" class=\"dataframe\">\n",
       "  <thead>\n",
       "    <tr style=\"text-align: right;\">\n",
       "      <th>Month</th>\n",
       "      <th>1</th>\n",
       "      <th>2</th>\n",
       "      <th>3</th>\n",
       "      <th>4</th>\n",
       "      <th>5</th>\n",
       "      <th>6</th>\n",
       "      <th>7</th>\n",
       "      <th>8</th>\n",
       "      <th>9</th>\n",
       "      <th>10</th>\n",
       "      <th>11</th>\n",
       "      <th>12</th>\n",
       "    </tr>\n",
       "    <tr>\n",
       "      <th>Year</th>\n",
       "      <th></th>\n",
       "      <th></th>\n",
       "      <th></th>\n",
       "      <th></th>\n",
       "      <th></th>\n",
       "      <th></th>\n",
       "      <th></th>\n",
       "      <th></th>\n",
       "      <th></th>\n",
       "      <th></th>\n",
       "      <th></th>\n",
       "      <th></th>\n",
       "    </tr>\n",
       "  </thead>\n",
       "  <tbody>\n",
       "    <tr>\n",
       "      <th>1889</th>\n",
       "      <td>17.5</td>\n",
       "      <td>4.6</td>\n",
       "      <td>17.3</td>\n",
       "      <td>46.2</td>\n",
       "      <td>151.9</td>\n",
       "      <td>173.7</td>\n",
       "      <td>70.9</td>\n",
       "      <td>83.6</td>\n",
       "      <td>96.3</td>\n",
       "      <td>106.7</td>\n",
       "      <td>22.9</td>\n",
       "      <td>1.5</td>\n",
       "    </tr>\n",
       "    <tr>\n",
       "      <th>1890</th>\n",
       "      <td>14.0</td>\n",
       "      <td>33.3</td>\n",
       "      <td>0.5</td>\n",
       "      <td>12.4</td>\n",
       "      <td>88.4</td>\n",
       "      <td>146.8</td>\n",
       "      <td>90.7</td>\n",
       "      <td>146.3</td>\n",
       "      <td>60.7</td>\n",
       "      <td>101.6</td>\n",
       "      <td>1.0</td>\n",
       "      <td>11.7</td>\n",
       "    </tr>\n",
       "    <tr>\n",
       "      <th>1891</th>\n",
       "      <td>1.5</td>\n",
       "      <td>0.0</td>\n",
       "      <td>27.9</td>\n",
       "      <td>1.0</td>\n",
       "      <td>106.2</td>\n",
       "      <td>117.1</td>\n",
       "      <td>86.9</td>\n",
       "      <td>61.5</td>\n",
       "      <td>77.0</td>\n",
       "      <td>15.5</td>\n",
       "      <td>0.0</td>\n",
       "      <td>2.0</td>\n",
       "    </tr>\n",
       "    <tr>\n",
       "      <th>1892</th>\n",
       "      <td>0.0</td>\n",
       "      <td>1.5</td>\n",
       "      <td>34.5</td>\n",
       "      <td>34.3</td>\n",
       "      <td>85.3</td>\n",
       "      <td>76.5</td>\n",
       "      <td>97.0</td>\n",
       "      <td>169.9</td>\n",
       "      <td>56.4</td>\n",
       "      <td>16.5</td>\n",
       "      <td>11.4</td>\n",
       "      <td>0.0</td>\n",
       "    </tr>\n",
       "    <tr>\n",
       "      <th>1893</th>\n",
       "      <td>0.0</td>\n",
       "      <td>3.8</td>\n",
       "      <td>46.2</td>\n",
       "      <td>73.4</td>\n",
       "      <td>201.2</td>\n",
       "      <td>52.8</td>\n",
       "      <td>158.8</td>\n",
       "      <td>86.4</td>\n",
       "      <td>100.1</td>\n",
       "      <td>47.2</td>\n",
       "      <td>20.3</td>\n",
       "      <td>8.4</td>\n",
       "    </tr>\n",
       "    <tr>\n",
       "      <th>...</th>\n",
       "      <td>...</td>\n",
       "      <td>...</td>\n",
       "      <td>...</td>\n",
       "      <td>...</td>\n",
       "      <td>...</td>\n",
       "      <td>...</td>\n",
       "      <td>...</td>\n",
       "      <td>...</td>\n",
       "      <td>...</td>\n",
       "      <td>...</td>\n",
       "      <td>...</td>\n",
       "      <td>...</td>\n",
       "    </tr>\n",
       "    <tr>\n",
       "      <th>1998</th>\n",
       "      <td>0.0</td>\n",
       "      <td>0.0</td>\n",
       "      <td>0.0</td>\n",
       "      <td>0.0</td>\n",
       "      <td>78.3</td>\n",
       "      <td>165.3</td>\n",
       "      <td>122.2</td>\n",
       "      <td>127.8</td>\n",
       "      <td>97.3</td>\n",
       "      <td>28.1</td>\n",
       "      <td>9.4</td>\n",
       "      <td>11.4</td>\n",
       "    </tr>\n",
       "    <tr>\n",
       "      <th>1999</th>\n",
       "      <td>102.2</td>\n",
       "      <td>0.0</td>\n",
       "      <td>54.6</td>\n",
       "      <td>2.1</td>\n",
       "      <td>145.8</td>\n",
       "      <td>123.0</td>\n",
       "      <td>136.5</td>\n",
       "      <td>122.9</td>\n",
       "      <td>124.2</td>\n",
       "      <td>86.0</td>\n",
       "      <td>0.0</td>\n",
       "      <td>6.1</td>\n",
       "    </tr>\n",
       "    <tr>\n",
       "      <th>2008</th>\n",
       "      <td>2.4</td>\n",
       "      <td>28.5</td>\n",
       "      <td>18.5</td>\n",
       "      <td>69.3</td>\n",
       "      <td>66.1</td>\n",
       "      <td>85.4</td>\n",
       "      <td>174.9</td>\n",
       "      <td>31.2</td>\n",
       "      <td>89.9</td>\n",
       "      <td>54.2</td>\n",
       "      <td>35.0</td>\n",
       "      <td>4.6</td>\n",
       "    </tr>\n",
       "    <tr>\n",
       "      <th>2020</th>\n",
       "      <td>0.0</td>\n",
       "      <td>73.0</td>\n",
       "      <td>15.4</td>\n",
       "      <td>17.5</td>\n",
       "      <td>70.5</td>\n",
       "      <td>109.8</td>\n",
       "      <td>60.1</td>\n",
       "      <td>103.1</td>\n",
       "      <td>61.0</td>\n",
       "      <td>7.2</td>\n",
       "      <td>56.2</td>\n",
       "      <td>3.2</td>\n",
       "    </tr>\n",
       "    <tr>\n",
       "      <th>2021</th>\n",
       "      <td>4.2</td>\n",
       "      <td>38.4</td>\n",
       "      <td>39.8</td>\n",
       "      <td>16.0</td>\n",
       "      <td>127.6</td>\n",
       "      <td>88.5</td>\n",
       "      <td>217.9</td>\n",
       "      <td>88.0</td>\n",
       "      <td>73.2</td>\n",
       "      <td>86.8</td>\n",
       "      <td>14.6</td>\n",
       "      <td>0.0</td>\n",
       "    </tr>\n",
       "  </tbody>\n",
       "</table>\n",
       "<p>114 rows × 12 columns</p>\n",
       "</div>"
      ],
      "text/plain": [
       "Month     1     2     3     4      5      6      7      8      9      10  \\\n",
       "Year                                                                       \n",
       "1889    17.5   4.6  17.3  46.2  151.9  173.7   70.9   83.6   96.3  106.7   \n",
       "1890    14.0  33.3   0.5  12.4   88.4  146.8   90.7  146.3   60.7  101.6   \n",
       "1891     1.5   0.0  27.9   1.0  106.2  117.1   86.9   61.5   77.0   15.5   \n",
       "1892     0.0   1.5  34.5  34.3   85.3   76.5   97.0  169.9   56.4   16.5   \n",
       "1893     0.0   3.8  46.2  73.4  201.2   52.8  158.8   86.4  100.1   47.2   \n",
       "...      ...   ...   ...   ...    ...    ...    ...    ...    ...    ...   \n",
       "1998     0.0   0.0   0.0   0.0   78.3  165.3  122.2  127.8   97.3   28.1   \n",
       "1999   102.2   0.0  54.6   2.1  145.8  123.0  136.5  122.9  124.2   86.0   \n",
       "2008     2.4  28.5  18.5  69.3   66.1   85.4  174.9   31.2   89.9   54.2   \n",
       "2020     0.0  73.0  15.4  17.5   70.5  109.8   60.1  103.1   61.0    7.2   \n",
       "2021     4.2  38.4  39.8  16.0  127.6   88.5  217.9   88.0   73.2   86.8   \n",
       "\n",
       "Month    11    12  \n",
       "Year               \n",
       "1889   22.9   1.5  \n",
       "1890    1.0  11.7  \n",
       "1891    0.0   2.0  \n",
       "1892   11.4   0.0  \n",
       "1893   20.3   8.4  \n",
       "...     ...   ...  \n",
       "1998    9.4  11.4  \n",
       "1999    0.0   6.1  \n",
       "2008   35.0   4.6  \n",
       "2020   56.2   3.2  \n",
       "2021   14.6   0.0  \n",
       "\n",
       "[114 rows x 12 columns]"
      ]
     },
     "execution_count": 45,
     "metadata": {},
     "output_type": "execute_result"
    }
   ],
   "source": [
    "rainfall_wide = rainfall.pivot(values= \"Monthly Precipitation Total (millimetres)\", columns= \"Month\", index = \"Year\")\n",
    "\n",
    "rainfall_wide = rainfall_wide.dropna()"
   ]
  },
  {
   "cell_type": "markdown",
   "metadata": {},
   "source": [
    "Now to run the linear model using sklearn"
   ]
  },
  {
   "cell_type": "code",
   "execution_count": 78,
   "metadata": {},
   "outputs": [],
   "source": [
    "Y_train = rainfall_wide.iloc[1:80:,9].to_numpy()\n",
    "X_train = rainfall_wide.iloc[1:80:,1:8].to_numpy()\n",
    "\n",
    "Y_test = rainfall_wide.iloc[81:114:,9].to_numpy()\n",
    "X_test = rainfall_wide.iloc[81:114:,1:8].to_numpy()\n",
    "\n",
    "model = linear_model.LinearRegression()"
   ]
  },
  {
   "cell_type": "code",
   "execution_count": 77,
   "metadata": {},
   "outputs": [
    {
     "data": {
      "text/plain": [
       "<Axes: xlabel='test', ylabel='predict'>"
      ]
     },
     "execution_count": 77,
     "metadata": {},
     "output_type": "execute_result"
    },
    {
     "data": {
      "image/png": "[encoded data removed]",
      "text/plain": [
       "<Figure size 640x480 with 1 Axes>"
      ]
     },
     "metadata": {},
     "output_type": "display_data"
    }
   ],
   "source": [
    "model.fit(X_train, Y_train)\n",
    "september_y_pred = model.predict(X_test)\n",
    "\n",
    "test_data = pd.DataFrame({'test': Y_test, 'predict': september_y_pred})\n",
    "\n",
    "sns.scatterplot(data=test_data, x=\"test\", y=\"predict\")"
   ]
  },
  {
   "cell_type": "markdown",
   "metadata": {},
   "source": [
    "This fit was very poor. Maybe some of the variables were unnecesary? Let's check the correlation matrix and only include important variables in the training data. "
   ]
  },
  {
   "cell_type": "code",
   "execution_count": 108,
   "metadata": {},
   "outputs": [
    {
     "data": {
      "text/plain": [
       "<Axes: xlabel='Month', ylabel='Month'>"
      ]
     },
     "execution_count": 108,
     "metadata": {},
     "output_type": "execute_result"
    },
    {
     "data": {
      "image/png": "[encoded data removed]",
      "text/plain": [
       "<Figure size 1100x900 with 2 Axes>"
      ]
     },
     "metadata": {},
     "output_type": "display_data"
    }
   ],
   "source": [
    "# Compute the correlation matrix\n",
    "corr = rainfall_wide.corr()\n",
    "\n",
    "# Generate a mask for the upper triangle\n",
    "mask = np.triu(np.ones_like(corr, dtype=bool))\n",
    "\n",
    "# Set up the matplotlib figure\n",
    "f, ax = plt.subplots(figsize=(11, 9))\n",
    "\n",
    "# Generate a custom diverging colormap\n",
    "cmap = sns.diverging_palette(230, 20, as_cmap=True)\n",
    "\n",
    "# Draw the heatmap with the mask and correct aspect ratio\n",
    "sns.heatmap(corr, mask=mask, cmap=cmap, vmax=.3, center=0,\n",
    "            square=True, linewidths=.5, cbar_kws={\"shrink\": .5})"
   ]
  },
  {
   "cell_type": "markdown",
   "metadata": {},
   "source": [
    "As expected, only the previous two months are important for prediction. Let's now fit only according to these. "
   ]
  },
  {
   "cell_type": "code",
   "execution_count": 87,
   "metadata": {},
   "outputs": [],
   "source": [
    "Y_train = rainfall_wide.iloc[1:80:,9].to_numpy()\n",
    "X_train = rainfall_wide.iloc[1:80:,7:8].to_numpy()\n",
    "\n",
    "Y_test = rainfall_wide.iloc[81:114:,9].to_numpy()\n",
    "X_test = rainfall_wide.iloc[81:114:,7:8].to_numpy()\n",
    "\n",
    "model_2 = linear_model.LinearRegression()"
   ]
  },
  {
   "cell_type": "code",
   "execution_count": 75,
   "metadata": {},
   "outputs": [
    {
     "data": {
      "text/plain": [
       "<Axes: xlabel='test', ylabel='predict'>"
      ]
     },
     "execution_count": 75,
     "metadata": {},
     "output_type": "execute_result"
    },
    {
     "data": {
      "image/png": "[encoded data removed]",
      "text/plain": [
       "<Figure size 640x480 with 1 Axes>"
      ]
     },
     "metadata": {},
     "output_type": "display_data"
    }
   ],
   "source": [
    "model_2 = model_2.fit(X_train, Y_train)\n",
    "september_y_pred = model_2.predict(X_test)\n",
    "\n",
    "test_data = pd.DataFrame({'test': Y_test, 'predict': september_y_pred})\n",
    "\n",
    "sns.scatterplot(data=test_data, x=\"test\", y=\"predict\")"
   ]
  },
  {
   "cell_type": "code",
   "execution_count": null,
   "metadata": {},
   "outputs": [
    {
     "data": {
      "text/plain": [
       "<Axes: xlabel='test', ylabel='predict'>"
      ]
     },
     "metadata": {},
     "output_type": "display_data"
    },
    {
     "data": {
      "image/png": "[encoded data removed]",
      "text/plain": [
       "<Figure size 640x480 with 1 Axes>"
      ]
     },
     "metadata": {},
     "output_type": "display_data"
    }
   ],
   "source": [
    "model_2 = model_2.fit(X_train, Y_train)\n",
    "september_y_pred = model_2.predict(X_test)\n",
    "\n",
    "test_data = pd.DataFrame({'test': Y_test, 'predict': september_y_pred})\n",
    "\n",
    "sns.scatterplot(data=test_data, x=\"test\", y=\"predict\")"
   ]
  },
  {
   "cell_type": "markdown",
   "metadata": {},
   "source": [
    "A poor result again, let's now try a decision tree and see the result."
   ]
  },
  {
   "cell_type": "code",
   "execution_count": null,
   "metadata": {},
   "outputs": [],
   "source": [
    "clf = tree.DecisionTreeRegressor(max_depth=10)\n",
    "\n",
    "clf = clf.fit(X_train, Y_train)\n",
    "\n",
    "predict = clf.predict(X_test)\n",
    "\n",
    "test_data = pd.DataFrame({'test': Y_test, 'predict': predict})\n",
    "\n",
    "sns.scatterplot(data=test_data, x=\"test\", y=\"predict\")"
   ]
  },
  {
   "cell_type": "markdown",
   "metadata": {},
   "source": [
    "Create a new variable named (Past year's rainfall)"
   ]
  },
  {
   "cell_type": "code",
   "execution_count": 99,
   "metadata": {},
   "outputs": [],
   "source": [
    "rainfall_wide = rainfall_wide.assign(sum_prev =lambda x: x.iloc[:,1] + x.iloc[:,2] + x.iloc[:,3] + x.iloc[:,4] + x.iloc[:,5] + x.iloc[:,6] + x.iloc[:,7] + x.iloc[:,8])"
   ]
  },
  {
   "cell_type": "code",
   "execution_count": null,
   "metadata": {},
   "outputs": [],
   "source": [
    "rainfall_wide"
   ]
  },
  {
   "cell_type": "code",
   "execution_count": null,
   "metadata": {},
   "outputs": [],
   "source": [
    "rainfall_wide.iloc[:,[8,12]].corr()"
   ]
  },
  {
   "cell_type": "code",
   "execution_count": 113,
   "metadata": {},
   "outputs": [],
   "source": [
    "Y_train = rainfall_wide.iloc[1:80:,8]\n",
    "X_train = rainfall_wide.iloc[1:80:,11:12]\n",
    "\n",
    "Y_test = rainfall_wide.iloc[81:114:,8]\n",
    "X_test = rainfall_wide.iloc[81:114:,11:12]\n",
    "\n",
    "model_2 = linear_model.LinearRegression()"
   ]
  },
  {
   "cell_type": "code",
   "execution_count": 116,
   "metadata": {},
   "outputs": [
    {
     "data": {
      "text/plain": [
       "<Axes: xlabel='test', ylabel='predict'>"
      ]
     },
     "execution_count": 116,
     "metadata": {},
     "output_type": "execute_result"
    },
    {
     "data": {
      "image/png": "[encoded data removed]",
      "text/plain": [
       "<Figure size 640x480 with 1 Axes>"
      ]
     },
     "metadata": {},
     "output_type": "display_data"
    }
   ],
   "source": [
    "model_2.fit(X_train, Y_train)\n",
    "september_y_pred = model_2.predict(X_test)\n",
    "\n",
    "test_data = pd.DataFrame({'test': Y_test, 'predict': september_y_pred})\n",
    "\n",
    "sns.scatterplot(data=test_data, x=\"test\", y=\"predict\")"
   ]
  },
  {
   "cell_type": "code",
   "execution_count": null,
   "metadata": {},
   "outputs": [],
   "source": [
    "\n",
    "'\n"
   ]
  }
 ],
 "metadata": {
  "kernelspec": {
   "display_name": "base",
   "language": "python",
   "name": "python3"
  },
  "language_info": {
   "codemirror_mode": {
    "name": "ipython",
    "version": 3
   },
   "file_extension": ".py",
   "mimetype": "text/x-python",
   "name": "python",
   "nbconvert_exporter": "python",
   "pygments_lexer": "ipython3",
   "version": "3.12.0"
  },
  "orig_nbformat": 4
 },
 "nbformat": 4,
 "nbformat_minor": 2
}
